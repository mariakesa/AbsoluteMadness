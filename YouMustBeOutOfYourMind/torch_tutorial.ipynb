{
 "cells": [
  {
   "cell_type": "code",
   "execution_count": 142,
   "metadata": {},
   "outputs": [
    {
     "name": "stdout",
     "output_type": "stream",
     "text": [
      "['data/names/Spanish.txt', 'data/names/Scottish.txt', 'data/names/Polish.txt', 'data/names/Chinese.txt', 'data/names/German.txt', 'data/names/English.txt', 'data/names/Greek.txt', 'data/names/Arabic.txt', 'data/names/Portuguese.txt', 'data/names/Irish.txt', 'data/names/Korean.txt', 'data/names/Russian.txt', 'data/names/Dutch.txt', 'data/names/Italian.txt', 'data/names/Japanese.txt', 'data/names/Vietnamese.txt', 'data/names/Czech.txt', 'data/names/French.txt']\n",
      "Slusarski\n"
     ]
    }
   ],
   "source": [
    "from io import open\n",
    "import glob\n",
    "import os\n",
    "\n",
    "def findFiles(path): return glob.glob(path)\n",
    "\n",
    "print(findFiles('data/names/*.txt'))\n",
    "\n",
    "import unicodedata\n",
    "import string\n",
    "\n",
    "all_letters = string.ascii_letters + \" .,;'\"\n",
    "n_letters = len(all_letters)\n",
    "\n",
    "# Turn a Unicode string to plain ASCII, thanks to https://stackoverflow.com/a/518232/2809427\n",
    "def unicodeToAscii(s):\n",
    "    return ''.join(\n",
    "        c for c in unicodedata.normalize('NFD', s)\n",
    "        if unicodedata.category(c) != 'Mn'\n",
    "        and c in all_letters\n",
    "    )\n",
    "\n",
    "print(unicodeToAscii('Ślusàrski'))\n",
    "\n",
    "# Build the category_lines dictionary, a list of names per language\n",
    "category_lines = {}\n",
    "all_categories = []\n",
    "\n",
    "# Read a file and split into lines\n",
    "def readLines(filename):\n",
    "    lines = open(filename, encoding='utf-8').read().strip().split('\\n')\n",
    "    return [unicodeToAscii(line) for line in lines]\n",
    "\n",
    "for filename in findFiles('data/names/*.txt'):\n",
    "    category = os.path.splitext(os.path.basename(filename))[0]\n",
    "    all_categories.append(category)\n",
    "    lines = readLines(filename)\n",
    "    category_lines[category] = lines\n",
    "\n",
    "n_categories = len(all_categories)"
   ]
  },
  {
   "cell_type": "code",
   "execution_count": 143,
   "metadata": {},
   "outputs": [
    {
     "name": "stdout",
     "output_type": "stream",
     "text": [
      "tensor([[0., 0., 0., 0., 0., 0., 0., 0., 0., 0., 0., 0., 0., 0., 0., 0., 0., 0.,\n",
      "         0., 0., 0., 0., 0., 0., 0., 0., 0., 0., 0., 0., 0., 0., 0., 0., 0., 1.,\n",
      "         0., 0., 0., 0., 0., 0., 0., 0., 0., 0., 0., 0., 0., 0., 0., 0., 0., 0.,\n",
      "         0., 0., 0.]])\n",
      "tensor([[[0., 0., 0., 0., 0., 0., 0., 0., 0., 0., 0., 0., 0., 0., 0., 0., 0.,\n",
      "          0., 0., 0., 0., 0., 0., 0., 0., 0., 0., 0., 0., 0., 0., 0., 0., 0.,\n",
      "          0., 1., 0., 0., 0., 0., 0., 0., 0., 0., 0., 0., 0., 0., 0., 0., 0.,\n",
      "          0., 0., 0., 0., 0., 0.]],\n",
      "\n",
      "        [[0., 0., 0., 0., 0., 0., 0., 0., 0., 0., 0., 0., 0., 0., 1., 0., 0.,\n",
      "          0., 0., 0., 0., 0., 0., 0., 0., 0., 0., 0., 0., 0., 0., 0., 0., 0.,\n",
      "          0., 0., 0., 0., 0., 0., 0., 0., 0., 0., 0., 0., 0., 0., 0., 0., 0.,\n",
      "          0., 0., 0., 0., 0., 0.]],\n",
      "\n",
      "        [[0., 0., 0., 0., 0., 0., 0., 0., 0., 0., 0., 0., 0., 1., 0., 0., 0.,\n",
      "          0., 0., 0., 0., 0., 0., 0., 0., 0., 0., 0., 0., 0., 0., 0., 0., 0.,\n",
      "          0., 0., 0., 0., 0., 0., 0., 0., 0., 0., 0., 0., 0., 0., 0., 0., 0.,\n",
      "          0., 0., 0., 0., 0., 0.]],\n",
      "\n",
      "        [[0., 0., 0., 0., 1., 0., 0., 0., 0., 0., 0., 0., 0., 0., 0., 0., 0.,\n",
      "          0., 0., 0., 0., 0., 0., 0., 0., 0., 0., 0., 0., 0., 0., 0., 0., 0.,\n",
      "          0., 0., 0., 0., 0., 0., 0., 0., 0., 0., 0., 0., 0., 0., 0., 0., 0.,\n",
      "          0., 0., 0., 0., 0., 0.]],\n",
      "\n",
      "        [[0., 0., 0., 0., 0., 0., 0., 0., 0., 0., 0., 0., 0., 0., 0., 0., 0.,\n",
      "          0., 1., 0., 0., 0., 0., 0., 0., 0., 0., 0., 0., 0., 0., 0., 0., 0.,\n",
      "          0., 0., 0., 0., 0., 0., 0., 0., 0., 0., 0., 0., 0., 0., 0., 0., 0.,\n",
      "          0., 0., 0., 0., 0., 0.]]])\n"
     ]
    }
   ],
   "source": [
    "import torch\n",
    "\n",
    "# Find letter index from all_letters, e.g. \"a\" = 0\n",
    "def letterToIndex(letter):\n",
    "    return all_letters.find(letter)\n",
    "\n",
    "# Just for demonstration, turn a letter into a <1 x n_letters> Tensor\n",
    "def letterToTensor(letter):\n",
    "    tensor = torch.zeros(1, n_letters)\n",
    "    tensor[0][letterToIndex(letter)] = 1\n",
    "    return tensor\n",
    "\n",
    "# Turn a line into a <line_length x 1 x n_letters>,\n",
    "# or an array of one-hot letter vectors\n",
    "def lineToTensor(line):\n",
    "    tensor = torch.zeros(len(line), 1, n_letters)\n",
    "    for li, letter in enumerate(line):\n",
    "        tensor[li][0][letterToIndex(letter)] = 1\n",
    "    return tensor\n",
    "\n",
    "print(letterToTensor('J'))\n",
    "\n",
    "print(lineToTensor('Jones'))"
   ]
  },
  {
   "cell_type": "code",
   "execution_count": 153,
   "metadata": {},
   "outputs": [],
   "source": [
    "import torch.nn as nn\n",
    "import torch.nn.functional as F\n",
    "from ncps.torch import LTC\n",
    "\n",
    "class RNN(nn.Module):\n",
    "    def __init__(self, input_size, hidden_size, output_size):\n",
    "        super(RNN, self).__init__()\n",
    "\n",
    "        self.hidden_size = hidden_size\n",
    "\n",
    "        out_features = output_size\n",
    "        in_features = input_size\n",
    "\n",
    "        #from ncps.wirings import AutoNCP\n",
    "\n",
    "        #wiring = AutoNCP(128, out_features)  # 16 units, 1 motor neuron\n",
    "\n",
    "        #self.ltc = LTC(in_features, wiring, batch_first=True)\n",
    "        self.emb=nn.Linear(input_size, 128)\n",
    "        self.ltc=LTC(128, output_size)\n",
    "\n",
    "        #self.i2h = nn.Linear(input_size, hidden_size)\n",
    "        #self.h2h = nn.Linear(hidden_size, hidden_size)\n",
    "        self.h2o = nn.Linear(output_size, output_size)\n",
    "        self.softmax = nn.LogSoftmax(dim=1)\n",
    "\n",
    "    def forward(self, input, hidden):\n",
    "        #hidden = F.tanh(self.i2h(input) + self.h2h(hidden))\n",
    "        #output = self.h2o(hidden)\n",
    "        input=self.emb(input)   \n",
    "        output, hidden = self.ltc(input)\n",
    "        output=self.h2o(output)\n",
    "        output = self.softmax(output)\n",
    "        return output, hidden\n",
    "\n",
    "    def initHidden(self):\n",
    "        return torch.zeros(1, self.hidden_size)\n",
    "\n",
    "n_hidden = 19\n",
    "rnn = RNN(n_letters, n_hidden, n_categories)"
   ]
  },
  {
   "cell_type": "code",
   "execution_count": 149,
   "metadata": {},
   "outputs": [],
   "source": []
  },
  {
   "cell_type": "code",
   "execution_count": 154,
   "metadata": {},
   "outputs": [
    {
     "data": {
      "text/plain": [
       "torch.Size([1, 19])"
      ]
     },
     "execution_count": 154,
     "metadata": {},
     "output_type": "execute_result"
    }
   ],
   "source": [
    "input = letterToTensor('A')\n",
    "hidden = torch.zeros(1, n_hidden)\n",
    "\n",
    "output, next_hidden = rnn(input, hidden)\n",
    "hidden.shape"
   ]
  },
  {
   "cell_type": "code",
   "execution_count": null,
   "metadata": {},
   "outputs": [
    {
     "name": "stdout",
     "output_type": "stream",
     "text": [
      "tensor([[-2.6995, -2.7811, -3.0620, -2.9831, -2.7029, -3.2597, -3.0005, -2.4945,\n",
      "         -3.2113, -2.6317, -2.8365, -2.9954, -2.9414, -3.1047, -3.0001, -3.0693,\n",
      "         -2.8430, -2.7706]], grad_fn=<LogSoftmaxBackward0>)\n"
     ]
    }
   ],
   "source": [
    "input = lineToTensor('Albert')\n",
    "hidden = torch.zeros(1, n_hidden)\n",
    "\n",
    "output, next_hidden = rnn(input[0], hidden)\n",
    "print(output)"
   ]
  },
  {
   "cell_type": "code",
   "execution_count": null,
   "metadata": {},
   "outputs": [
    {
     "name": "stdout",
     "output_type": "stream",
     "text": [
      "('Arabic', 7)\n"
     ]
    }
   ],
   "source": [
    "def categoryFromOutput(output):\n",
    "    top_n, top_i = output.topk(1)\n",
    "    category_i = top_i[0].item()\n",
    "    return all_categories[category_i], category_i\n",
    "\n",
    "print(categoryFromOutput(output))"
   ]
  },
  {
   "cell_type": "code",
   "execution_count": null,
   "metadata": {},
   "outputs": [
    {
     "name": "stdout",
     "output_type": "stream",
     "text": [
      "category = Italian / line = Columbo\n",
      "category = Arabic / line = Tuma\n",
      "category = Dutch / line = Schuyler\n",
      "category = Scottish / line = Hunter\n",
      "category = Greek / line = Fotopoulos\n",
      "category = Chinese / line = Guan\n",
      "category = Chinese / line = Rong\n",
      "category = Italian / line = De laurentis\n",
      "category = Japanese / line = Nagata\n",
      "category = Russian / line = Abdrashitov\n"
     ]
    }
   ],
   "source": [
    "import random\n",
    "\n",
    "def randomChoice(l):\n",
    "    return l[random.randint(0, len(l) - 1)]\n",
    "\n",
    "def randomTrainingExample():\n",
    "    category = randomChoice(all_categories)\n",
    "    line = randomChoice(category_lines[category])\n",
    "    category_tensor = torch.tensor([all_categories.index(category)], dtype=torch.long)\n",
    "    line_tensor = lineToTensor(line)\n",
    "    return category, line, category_tensor, line_tensor\n",
    "\n",
    "for i in range(10):\n",
    "    category, line, category_tensor, line_tensor = randomTrainingExample()\n",
    "    print('category =', category, '/ line =', line)"
   ]
  },
  {
   "cell_type": "code",
   "execution_count": null,
   "metadata": {},
   "outputs": [],
   "source": [
    "criterion = nn.NLLLoss()"
   ]
  },
  {
   "cell_type": "code",
   "execution_count": null,
   "metadata": {},
   "outputs": [],
   "source": [
    "learning_rate = 0.005 # If you set this too high, it might explode. If too low, it might not learn\n",
    "'''\n",
    "def train(category_tensor, line_tensor):\n",
    "    hidden = torch.ones(1, n_hidden)\n",
    "\n",
    "    rnn.zero_grad()\n",
    "\n",
    "    for i in range(line_tensor.size()[0]):\n",
    "        output, hidden = rnn(line_tensor[i], hidden)\n",
    "\n",
    "    loss = criterion(output, category_tensor)\n",
    "    loss.backward()\n",
    "\n",
    "    # Add parameters' gradients to their values, multiplied by learning rate\n",
    "    #print(rnn.parameters())\n",
    "    for p in rnn.parameters():  \n",
    "        try:\n",
    "            p.data.add_(p.grad.data, alpha=-learning_rate)\n",
    "        except:\n",
    "            pass\n",
    "\n",
    "    return output, loss.item()\n",
    "'''\n",
    "learning_rate = 0.005\n",
    "\n",
    "import torch.optim as optim\n",
    "\n",
    "# Initialize the optimizer (SGD in this case, but you can use others like Adam)\n",
    "optimizer = optim.SGD(rnn.parameters(), lr=learning_rate)\n",
    "\n",
    "def train(category_tensor, line_tensor):\n",
    "    hidden = torch.ones(1, n_hidden)\n",
    "\n",
    "    # Zero gradients\n",
    "    rnn.zero_grad()\n",
    "    optimizer.zero_grad()\n",
    "\n",
    "    for i in range(line_tensor.size()[0]):\n",
    "        output, hidden = rnn(line_tensor[i], hidden)\n",
    "\n",
    "    loss = criterion(output, category_tensor)\n",
    "    loss.backward()\n",
    "\n",
    "    # Update parameters using the optimizer\n",
    "    optimizer.step()\n",
    "\n",
    "    return output, loss.item()\n"
   ]
  },
  {
   "cell_type": "code",
   "execution_count": null,
   "metadata": {},
   "outputs": [
    {
     "name": "stdout",
     "output_type": "stream",
     "text": [
      "500 0% (0m 8s) 3.1032 Guerra / Irish ✗ (Portuguese)\n",
      "1000 1% (0m 16s) 3.0713 Luong / Arabic ✗ (Vietnamese)\n",
      "1500 1% (0m 24s) 2.8482 Baumann / Irish ✗ (German)\n",
      "2000 2% (0m 30s) 2.8096 Seaghdha / Korean ✗ (Irish)\n",
      "2500 2% (0m 38s) 2.8741 Talanov / Spanish ✗ (Russian)\n",
      "3000 3% (0m 46s) 2.7336 Macon / French ✓\n",
      "3500 3% (0m 53s) 2.8636 Cardozo / Italian ✗ (Portuguese)\n",
      "4000 4% (1m 1s) 2.9017 Fleischer / Italian ✗ (German)\n",
      "4500 4% (1m 8s) 3.0285 Zimmermann / Irish ✗ (German)\n",
      "5000 5% (1m 15s) 2.9013 Puig / Polish ✗ (Spanish)\n",
      "5500 5% (1m 22s) 2.8750 Muso / Polish ✗ (Japanese)\n",
      "6000 6% (1m 30s) 2.8339 Tessaro / Irish ✗ (Italian)\n",
      "6500 6% (1m 39s) 2.9241 Castellano / Portuguese ✗ (Spanish)\n",
      "7000 7% (1m 47s) 2.7127 O'Hara / Irish ✓\n",
      "7500 7% (1m 55s) 2.8653 Southwick / Vietnamese ✗ (English)\n",
      "8000 8% (2m 3s) 2.8498 Klimek / Vietnamese ✗ (Polish)\n",
      "8500 8% (2m 12s) 2.8100 Lac / Korean ✗ (Vietnamese)\n",
      "9000 9% (2m 19s) 2.8637 Walling / Korean ✗ (English)\n",
      "9500 9% (2m 28s) 2.8863 Mckay / Irish ✗ (Scottish)\n",
      "10000 10% (2m 36s) 2.9620 Kasamatsu / Polish ✗ (Japanese)\n",
      "10500 10% (2m 44s) 2.8462 Watt / Irish ✗ (Scottish)\n",
      "11000 11% (2m 51s) 2.9145 Aodha / Italian ✗ (Irish)\n",
      "11500 11% (2m 58s) 2.8777 Dziadik / Italian ✗ (Czech)\n",
      "12000 12% (3m 5s) 2.9281 Hebert / Italian ✗ (French)\n",
      "12500 12% (3m 12s) 2.8263 Peters / Greek ✗ (English)\n",
      "13000 13% (3m 19s) 2.8476 Schrader / Chinese ✗ (German)\n",
      "13500 13% (3m 26s) 2.8669 Connolly / Dutch ✗ (Irish)\n",
      "14000 14% (3m 34s) 2.9255 Fritsch / Italian ✗ (Czech)\n",
      "14500 14% (3m 42s) 2.8686 Mcintyre / Italian ✗ (Scottish)\n",
      "15000 15% (3m 50s) 2.7714 Fraser / Italian ✗ (Scottish)\n",
      "15500 15% (3m 57s) 2.8867 Toma / Japanese ✗ (Arabic)\n",
      "16000 16% (4m 5s) 2.8718 Rosario / Italian ✗ (Portuguese)\n",
      "16500 16% (4m 12s) 1.9311 Kolovos / Greek ✓\n",
      "17000 17% (4m 19s) 2.9123 Michaud / Irish ✗ (French)\n",
      "17500 17% (4m 26s) 1.9921 Pantelas / Greek ✓\n",
      "18000 18% (4m 33s) 2.9839 Summers / Greek ✗ (English)\n",
      "18500 18% (4m 41s) 2.6255 Pasternak / Polish ✓\n",
      "19000 19% (4m 47s) 2.6786 Chu / Italian ✗ (Vietnamese)\n",
      "19500 19% (4m 56s) 2.6053 Etxebarria / Japanese ✗ (Spanish)\n",
      "20000 20% (5m 4s) 2.5819 Caro / Italian ✗ (Spanish)\n",
      "20500 20% (5m 11s) 1.8653 Turchi / Italian ✓\n",
      "21000 21% (5m 19s) 2.4990 Paterson / Scottish ✓\n",
      "21500 21% (5m 31s) 1.1669 Avgerinos / Greek ✓\n",
      "22000 22% (5m 40s) 2.5162 Jong / Chinese ✗ (Korean)\n",
      "22500 22% (5m 47s) 3.2340 Serafin / Scottish ✗ (Polish)\n",
      "23000 23% (5m 54s) 2.2725 Zeng / Vietnamese ✗ (Chinese)\n",
      "23500 23% (6m 1s) 0.9634 Matsoukis / Greek ✓\n",
      "24000 24% (6m 10s) 2.2477 Breiner / Dutch ✗ (German)\n",
      "24500 24% (6m 18s) 2.3286 Thayer / Dutch ✗ (French)\n",
      "25000 25% (6m 27s) 3.0151 Chin / Scottish ✗ (Korean)\n",
      "25500 25% (6m 36s) 3.0821 Ton / Scottish ✗ (Vietnamese)\n",
      "26000 26% (6m 45s) 1.9880 Ramecker / Dutch ✓\n",
      "26500 26% (6m 52s) 2.3716 Iniguez / Portuguese ✗ (Spanish)\n",
      "27000 27% (7m 0s) 2.8422 Ganim / Scottish ✗ (Arabic)\n",
      "27500 27% (7m 10s) 2.4337 Khu / Vietnamese ✗ (Chinese)\n",
      "28000 28% (7m 18s) 2.5848 Teague / French ✗ (Irish)\n",
      "28500 28% (7m 26s) 2.8665 Ngai / Italian ✗ (Korean)\n",
      "29000 28% (7m 34s) 2.2424 Simonis / Greek ✗ (Dutch)\n",
      "29500 29% (7m 42s) 1.8057 Warszawski / Italian ✗ (Polish)\n",
      "30000 30% (7m 50s) 1.9229 Bermudez / Spanish ✓\n",
      "30500 30% (7m 57s) 2.7038 Nader / German ✗ (Arabic)\n",
      "31000 31% (8m 5s) 1.7292 Jaskulski / Italian ✗ (Polish)\n",
      "31500 31% (8m 13s) 1.8176 Baumgartner / German ✓\n",
      "32000 32% (8m 22s) 3.8955 Sauvageau / Vietnamese ✗ (French)\n",
      "32500 32% (8m 29s) 0.9826 Zouvelekis / Greek ✓\n",
      "33000 33% (8m 38s) 2.6392 Peeters / Greek ✗ (Dutch)\n",
      "33500 33% (8m 46s) 2.7500 Pear / German ✗ (Czech)\n",
      "34000 34% (8m 54s) 0.9520 Papadelias / Greek ✓\n",
      "34500 34% (9m 2s) 1.6981 Suarez / Spanish ✓\n",
      "35000 35% (9m 9s) 1.0582 Chrysanthopoulos / Greek ✓\n",
      "35500 35% (9m 16s) 0.7614 Antipas / Greek ✓\n",
      "36000 36% (9m 24s) 3.5350 Sztegon / Irish ✗ (Czech)\n",
      "36500 36% (9m 33s) 1.3025 Loong / Chinese ✓\n",
      "37000 37% (9m 41s) 1.4904 Ribeiro / Portuguese ✓\n",
      "37500 37% (9m 48s) 3.4282 Bleskan / Scottish ✗ (Czech)\n",
      "38000 38% (9m 56s) 1.9339 Daly / Irish ✓\n",
      "38500 38% (10m 5s) 1.6471 Dazai / Italian ✗ (Japanese)\n",
      "39000 39% (10m 13s) 2.4438 Desmond / Scottish ✗ (Irish)\n",
      "39500 39% (10m 21s) 1.8905 Mcdonald / Scottish ✓\n",
      "40000 40% (10m 29s) 1.8147 Mochan / Russian ✗ (Irish)\n",
      "40500 40% (10m 37s) 1.9320 O'Callaghann / Irish ✓\n",
      "41000 41% (10m 44s) 2.8237 Mayer / German ✗ (Czech)\n",
      "41500 41% (10m 53s) 2.5655 Kaluza / Japanese ✗ (Polish)\n",
      "42000 42% (11m 1s) 3.4216 Skokan / Irish ✗ (Czech)\n",
      "42500 42% (11m 9s) 2.6230 Mccallum / Chinese ✗ (Scottish)\n",
      "43000 43% (11m 17s) 1.4931 Metzger / German ✓\n",
      "43500 43% (11m 26s) 2.1471 Martin / Irish ✗ (Scottish)\n",
      "44000 44% (11m 34s) 2.0318 Wilson / Irish ✗ (Scottish)\n",
      "44500 44% (11m 42s) 4.4303 Sitko / Portuguese ✗ (Polish)\n",
      "45000 45% (11m 52s) 2.0229 Morrison / Irish ✗ (Scottish)\n",
      "45500 45% (12m 0s) 2.2622 Prinsen / Irish ✗ (Dutch)\n",
      "46000 46% (12m 9s) 2.4289 Baiguzin / Irish ✗ (Russian)\n",
      "46500 46% (12m 18s) 1.8125 Nakazawa / Spanish ✗ (Japanese)\n",
      "47000 47% (12m 25s) 2.8713 Moghadam / Chinese ✗ (Arabic)\n",
      "47500 47% (12m 34s) 2.2423 Carey / Russian ✗ (English)\n",
      "48000 48% (12m 42s) 2.5660 Han / Irish ✗ (Vietnamese)\n",
      "48500 48% (12m 51s) 1.0059 Tsogas / Greek ✓\n"
     ]
    },
    {
     "ename": "KeyboardInterrupt",
     "evalue": "",
     "output_type": "error",
     "traceback": [
      "\u001b[0;31m---------------------------------------------------------------------------\u001b[0m",
      "\u001b[0;31mKeyboardInterrupt\u001b[0m                         Traceback (most recent call last)",
      "Cell \u001b[0;32mIn[130], line 25\u001b[0m\n\u001b[1;32m     23\u001b[0m \u001b[38;5;28;01mfor\u001b[39;00m \u001b[38;5;28miter\u001b[39m \u001b[38;5;129;01min\u001b[39;00m \u001b[38;5;28mrange\u001b[39m(\u001b[38;5;241m1\u001b[39m, n_iters \u001b[38;5;241m+\u001b[39m \u001b[38;5;241m1\u001b[39m):\n\u001b[1;32m     24\u001b[0m     category, line, category_tensor, line_tensor \u001b[38;5;241m=\u001b[39m randomTrainingExample()\n\u001b[0;32m---> 25\u001b[0m     output, loss \u001b[38;5;241m=\u001b[39m \u001b[43mtrain\u001b[49m\u001b[43m(\u001b[49m\u001b[43mcategory_tensor\u001b[49m\u001b[43m,\u001b[49m\u001b[43m \u001b[49m\u001b[43mline_tensor\u001b[49m\u001b[43m)\u001b[49m\n\u001b[1;32m     26\u001b[0m     current_loss \u001b[38;5;241m+\u001b[39m\u001b[38;5;241m=\u001b[39m loss\n\u001b[1;32m     28\u001b[0m     \u001b[38;5;66;03m# Print ``iter`` number, loss, name and guess\u001b[39;00m\n",
      "Cell \u001b[0;32mIn[129], line 42\u001b[0m, in \u001b[0;36mtrain\u001b[0;34m(category_tensor, line_tensor)\u001b[0m\n\u001b[1;32m     39\u001b[0m     output, hidden \u001b[38;5;241m=\u001b[39m rnn(line_tensor[i], hidden)\n\u001b[1;32m     41\u001b[0m loss \u001b[38;5;241m=\u001b[39m criterion(output, category_tensor)\n\u001b[0;32m---> 42\u001b[0m \u001b[43mloss\u001b[49m\u001b[38;5;241;43m.\u001b[39;49m\u001b[43mbackward\u001b[49m\u001b[43m(\u001b[49m\u001b[43m)\u001b[49m\n\u001b[1;32m     44\u001b[0m \u001b[38;5;66;03m# Update parameters using the optimizer\u001b[39;00m\n\u001b[1;32m     45\u001b[0m optimizer\u001b[38;5;241m.\u001b[39mstep()\n",
      "File \u001b[0;32m~/anaconda3/lib/python3.9/site-packages/torch/_tensor.py:525\u001b[0m, in \u001b[0;36mTensor.backward\u001b[0;34m(self, gradient, retain_graph, create_graph, inputs)\u001b[0m\n\u001b[1;32m    515\u001b[0m \u001b[38;5;28;01mif\u001b[39;00m has_torch_function_unary(\u001b[38;5;28mself\u001b[39m):\n\u001b[1;32m    516\u001b[0m     \u001b[38;5;28;01mreturn\u001b[39;00m handle_torch_function(\n\u001b[1;32m    517\u001b[0m         Tensor\u001b[38;5;241m.\u001b[39mbackward,\n\u001b[1;32m    518\u001b[0m         (\u001b[38;5;28mself\u001b[39m,),\n\u001b[0;32m   (...)\u001b[0m\n\u001b[1;32m    523\u001b[0m         inputs\u001b[38;5;241m=\u001b[39minputs,\n\u001b[1;32m    524\u001b[0m     )\n\u001b[0;32m--> 525\u001b[0m \u001b[43mtorch\u001b[49m\u001b[38;5;241;43m.\u001b[39;49m\u001b[43mautograd\u001b[49m\u001b[38;5;241;43m.\u001b[39;49m\u001b[43mbackward\u001b[49m\u001b[43m(\u001b[49m\n\u001b[1;32m    526\u001b[0m \u001b[43m    \u001b[49m\u001b[38;5;28;43mself\u001b[39;49m\u001b[43m,\u001b[49m\u001b[43m \u001b[49m\u001b[43mgradient\u001b[49m\u001b[43m,\u001b[49m\u001b[43m \u001b[49m\u001b[43mretain_graph\u001b[49m\u001b[43m,\u001b[49m\u001b[43m \u001b[49m\u001b[43mcreate_graph\u001b[49m\u001b[43m,\u001b[49m\u001b[43m \u001b[49m\u001b[43minputs\u001b[49m\u001b[38;5;241;43m=\u001b[39;49m\u001b[43minputs\u001b[49m\n\u001b[1;32m    527\u001b[0m \u001b[43m\u001b[49m\u001b[43m)\u001b[49m\n",
      "File \u001b[0;32m~/anaconda3/lib/python3.9/site-packages/torch/autograd/__init__.py:267\u001b[0m, in \u001b[0;36mbackward\u001b[0;34m(tensors, grad_tensors, retain_graph, create_graph, grad_variables, inputs)\u001b[0m\n\u001b[1;32m    262\u001b[0m     retain_graph \u001b[38;5;241m=\u001b[39m create_graph\n\u001b[1;32m    264\u001b[0m \u001b[38;5;66;03m# The reason we repeat the same comment below is that\u001b[39;00m\n\u001b[1;32m    265\u001b[0m \u001b[38;5;66;03m# some Python versions print out the first line of a multi-line function\u001b[39;00m\n\u001b[1;32m    266\u001b[0m \u001b[38;5;66;03m# calls in the traceback and some print out the last line\u001b[39;00m\n\u001b[0;32m--> 267\u001b[0m \u001b[43m_engine_run_backward\u001b[49m\u001b[43m(\u001b[49m\n\u001b[1;32m    268\u001b[0m \u001b[43m    \u001b[49m\u001b[43mtensors\u001b[49m\u001b[43m,\u001b[49m\n\u001b[1;32m    269\u001b[0m \u001b[43m    \u001b[49m\u001b[43mgrad_tensors_\u001b[49m\u001b[43m,\u001b[49m\n\u001b[1;32m    270\u001b[0m \u001b[43m    \u001b[49m\u001b[43mretain_graph\u001b[49m\u001b[43m,\u001b[49m\n\u001b[1;32m    271\u001b[0m \u001b[43m    \u001b[49m\u001b[43mcreate_graph\u001b[49m\u001b[43m,\u001b[49m\n\u001b[1;32m    272\u001b[0m \u001b[43m    \u001b[49m\u001b[43minputs\u001b[49m\u001b[43m,\u001b[49m\n\u001b[1;32m    273\u001b[0m \u001b[43m    \u001b[49m\u001b[43mallow_unreachable\u001b[49m\u001b[38;5;241;43m=\u001b[39;49m\u001b[38;5;28;43;01mTrue\u001b[39;49;00m\u001b[43m,\u001b[49m\n\u001b[1;32m    274\u001b[0m \u001b[43m    \u001b[49m\u001b[43maccumulate_grad\u001b[49m\u001b[38;5;241;43m=\u001b[39;49m\u001b[38;5;28;43;01mTrue\u001b[39;49;00m\u001b[43m,\u001b[49m\n\u001b[1;32m    275\u001b[0m \u001b[43m\u001b[49m\u001b[43m)\u001b[49m\n",
      "File \u001b[0;32m~/anaconda3/lib/python3.9/site-packages/torch/autograd/graph.py:744\u001b[0m, in \u001b[0;36m_engine_run_backward\u001b[0;34m(t_outputs, *args, **kwargs)\u001b[0m\n\u001b[1;32m    742\u001b[0m     unregister_hooks \u001b[38;5;241m=\u001b[39m _register_logging_hooks_on_whole_graph(t_outputs)\n\u001b[1;32m    743\u001b[0m \u001b[38;5;28;01mtry\u001b[39;00m:\n\u001b[0;32m--> 744\u001b[0m     \u001b[38;5;28;01mreturn\u001b[39;00m \u001b[43mVariable\u001b[49m\u001b[38;5;241;43m.\u001b[39;49m\u001b[43m_execution_engine\u001b[49m\u001b[38;5;241;43m.\u001b[39;49m\u001b[43mrun_backward\u001b[49m\u001b[43m(\u001b[49m\u001b[43m  \u001b[49m\u001b[38;5;66;43;03m# Calls into the C++ engine to run the backward pass\u001b[39;49;00m\n\u001b[1;32m    745\u001b[0m \u001b[43m        \u001b[49m\u001b[43mt_outputs\u001b[49m\u001b[43m,\u001b[49m\u001b[43m \u001b[49m\u001b[38;5;241;43m*\u001b[39;49m\u001b[43margs\u001b[49m\u001b[43m,\u001b[49m\u001b[43m \u001b[49m\u001b[38;5;241;43m*\u001b[39;49m\u001b[38;5;241;43m*\u001b[39;49m\u001b[43mkwargs\u001b[49m\n\u001b[1;32m    746\u001b[0m \u001b[43m    \u001b[49m\u001b[43m)\u001b[49m  \u001b[38;5;66;03m# Calls into the C++ engine to run the backward pass\u001b[39;00m\n\u001b[1;32m    747\u001b[0m \u001b[38;5;28;01mfinally\u001b[39;00m:\n\u001b[1;32m    748\u001b[0m     \u001b[38;5;28;01mif\u001b[39;00m attach_logging_hooks:\n",
      "\u001b[0;31mKeyboardInterrupt\u001b[0m: "
     ]
    }
   ],
   "source": [
    "import time\n",
    "import math\n",
    "\n",
    "n_iters = 100000\n",
    "print_every = 500\n",
    "plot_every = 500\n",
    "\n",
    "\n",
    "\n",
    "# Keep track of losses for plotting\n",
    "current_loss = 0\n",
    "all_losses = []\n",
    "\n",
    "def timeSince(since):\n",
    "    now = time.time()\n",
    "    s = now - since\n",
    "    m = math.floor(s / 60)\n",
    "    s -= m * 60\n",
    "    return '%dm %ds' % (m, s)\n",
    "\n",
    "start = time.time()\n",
    "\n",
    "for iter in range(1, n_iters + 1):\n",
    "    category, line, category_tensor, line_tensor = randomTrainingExample()\n",
    "    output, loss = train(category_tensor, line_tensor)\n",
    "    current_loss += loss\n",
    "\n",
    "    # Print ``iter`` number, loss, name and guess\n",
    "    if iter % print_every == 0:\n",
    "        guess, guess_i = categoryFromOutput(output)\n",
    "        correct = '✓' if guess == category else '✗ (%s)' % category\n",
    "        print('%d %d%% (%s) %.4f %s / %s %s' % (iter, iter / n_iters * 100, timeSince(start), loss, line, guess, correct))\n",
    "\n",
    "    # Add current loss avg to list of losses\n",
    "    if iter % plot_every == 0:\n",
    "        all_losses.append(current_loss / plot_every)\n",
    "        current_loss = 0"
   ]
  },
  {
   "cell_type": "code",
   "execution_count": null,
   "metadata": {},
   "outputs": [
    {
     "data": {
      "text/plain": [
       "2.1363757686056197"
      ]
     },
     "execution_count": 119,
     "metadata": {},
     "output_type": "execute_result"
    }
   ],
   "source": [
    "len(all_losses)\n",
    "all_losses[-3]"
   ]
  },
  {
   "cell_type": "code",
   "execution_count": null,
   "metadata": {},
   "outputs": [
    {
     "data": {
      "text/plain": [
       "[<matplotlib.lines.Line2D at 0x7b7a4cb95760>]"
      ]
     },
     "execution_count": 115,
     "metadata": {},
     "output_type": "execute_result"
    },
    {
     "data": {
      "image/png": "[encoded data removed]",
      "text/plain": [
       "<Figure size 640x480 with 1 Axes>"
      ]
     },
     "metadata": {},
     "output_type": "display_data"
    }
   ],
   "source": [
    "import matplotlib.pyplot as plt\n",
    "import matplotlib.ticker as ticker\n",
    "\n",
    "plt.figure()\n",
    "plt.plot(all_losses)"
   ]
  },
  {
   "cell_type": "code",
   "execution_count": null,
   "metadata": {},
   "outputs": [
    {
     "name": "stderr",
     "output_type": "stream",
     "text": [
      "/tmp/ipykernel_3554412/3585656379.py:33: UserWarning: FixedFormatter should only be used together with FixedLocator\n",
      "  ax.set_xticklabels([''] + all_categories, rotation=90)\n",
      "/tmp/ipykernel_3554412/3585656379.py:34: UserWarning: FixedFormatter should only be used together with FixedLocator\n",
      "  ax.set_yticklabels([''] + all_categories)\n"
     ]
    },
    {
     "data": {
      "image/png": "[encoded data removed]",
      "text/plain": [
       "<Figure size 640x480 with 2 Axes>"
      ]
     },
     "metadata": {},
     "output_type": "display_data"
    }
   ],
   "source": [
    "# Keep track of correct guesses in a confusion matrix\n",
    "confusion = torch.zeros(n_categories, n_categories)\n",
    "n_confusion = 10000\n",
    "\n",
    "# Just return an output given a line\n",
    "def evaluate(line_tensor):\n",
    "    hidden = rnn.initHidden()\n",
    "\n",
    "    for i in range(line_tensor.size()[0]):\n",
    "        output, hidden = rnn(line_tensor[i], hidden)\n",
    "\n",
    "    return output\n",
    "\n",
    "# Go through a bunch of examples and record which are correctly guessed\n",
    "for i in range(n_confusion):\n",
    "    category, line, category_tensor, line_tensor = randomTrainingExample()\n",
    "    output = evaluate(line_tensor)\n",
    "    guess, guess_i = categoryFromOutput(output)\n",
    "    category_i = all_categories.index(category)\n",
    "    confusion[category_i][guess_i] += 1\n",
    "\n",
    "# Normalize by dividing every row by its sum\n",
    "for i in range(n_categories):\n",
    "    confusion[i] = confusion[i] / confusion[i].sum()\n",
    "\n",
    "# Set up plot\n",
    "fig = plt.figure()\n",
    "ax = fig.add_subplot(111)\n",
    "cax = ax.matshow(confusion.numpy())\n",
    "fig.colorbar(cax)\n",
    "\n",
    "# Set up axes\n",
    "ax.set_xticklabels([''] + all_categories, rotation=90)\n",
    "ax.set_yticklabels([''] + all_categories)\n",
    "\n",
    "# Force label at every tick\n",
    "ax.xaxis.set_major_locator(ticker.MultipleLocator(1))\n",
    "ax.yaxis.set_major_locator(ticker.MultipleLocator(1))\n",
    "\n",
    "# sphinx_gallery_thumbnail_number = 2\n",
    "plt.show()"
   ]
  },
  {
   "cell_type": "code",
   "execution_count": null,
   "metadata": {},
   "outputs": [
    {
     "name": "stdout",
     "output_type": "stream",
     "text": [
      "\n",
      "> Dovesky\n",
      "(-1.48) English\n",
      "(-1.48) Irish\n",
      "(-1.78) Scottish\n",
      "\n",
      "> Jackson\n",
      "(-2.01) Scottish\n",
      "(-2.06) Irish\n",
      "(-2.06) Korean\n",
      "\n",
      "> Satoshi\n",
      "(-1.38) Italian\n",
      "(-1.43) Polish\n",
      "(-1.45) Japanese\n",
      "\n",
      "> Maria\n",
      "(-1.06) Japanese\n",
      "(-1.83) Spanish\n",
      "(-2.29) Portuguese\n",
      "\n",
      "> Rasmus\n",
      "(-0.74) Greek\n",
      "(-1.95) Portuguese\n",
      "(-2.57) Dutch\n",
      "\n",
      "> Lembitu\n",
      "(-1.35) Vietnamese\n",
      "(-1.98) Chinese\n",
      "(-2.18) Korean\n"
     ]
    }
   ],
   "source": [
    "def predict(input_line, n_predictions=3):\n",
    "    print('\\n> %s' % input_line)\n",
    "    with torch.no_grad():\n",
    "        output = evaluate(lineToTensor(input_line))\n",
    "\n",
    "        # Get top N categories\n",
    "        topv, topi = output.topk(n_predictions, 1, True)\n",
    "        predictions = []\n",
    "\n",
    "        for i in range(n_predictions):\n",
    "            value = topv[0][i].item()\n",
    "            category_index = topi[0][i].item()\n",
    "            print('(%.2f) %s' % (value, all_categories[category_index]))\n",
    "            predictions.append([value, all_categories[category_index]])\n",
    "\n",
    "predict('Dovesky')\n",
    "predict('Jackson')\n",
    "predict('Satoshi')\n",
    "predict('Maria')\n",
    "predict('Rasmus')\n",
    "predict('Lembitu')"
   ]
  }
 ],
 "metadata": {
  "kernelspec": {
   "display_name": "base",
   "language": "python",
   "name": "python3"
  },
  "language_info": {
   "codemirror_mode": {
    "name": "ipython",
    "version": 3
   },
   "file_extension": ".py",
   "mimetype": "text/x-python",
   "name": "python",
   "nbconvert_exporter": "python",
   "pygments_lexer": "ipython3",
   "version": "3.9.13"
  }
 },
 "nbformat": 4,
 "nbformat_minor": 2
}
