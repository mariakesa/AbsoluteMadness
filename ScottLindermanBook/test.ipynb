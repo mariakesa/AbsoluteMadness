{
 "cells": [
  {
   "cell_type": "code",
   "execution_count": 2,
   "metadata": {},
   "outputs": [],
   "source": [
    "import torch\n",
    "import torch.distributions as dist\n",
    "import matplotlib.pyplot as plt"
   ]
  },
  {
   "cell_type": "code",
   "execution_count": 17,
   "metadata": {},
   "outputs": [
    {
     "name": "stdout",
     "output_type": "stream",
     "text": [
      "torch.Size([9])\n",
      "tensor([0, 1, 2, 3, 4, 5, 6, 7, 8]) tensor([[0, 1, 2],\n",
      "        [3, 4, 5],\n",
      "        [6, 7, 8]])\n",
      "tensor([1, 2, 3, 4, 5, 6, 7, 8, 9]) tensor([[1, 2, 3],\n",
      "        [4, 5, 6],\n",
      "        [7, 8, 9]])\n"
     ]
    }
   ],
   "source": [
    "a=torch.arange(0,9)\n",
    "print(a.shape)\n",
    "b=torch.reshape(a,(3,3))\n",
    "print(a,b)\n",
    "b.add_(1)\n",
    "print(a,b)"
   ]
  },
  {
   "cell_type": "code",
   "execution_count": 15,
   "metadata": {},
   "outputs": [
    {
     "name": "stdout",
     "output_type": "stream",
     "text": [
      "123869271533824 123869276329360\n",
      "tensor([[-0.2731,  0.6842,  0.4001,  1.3177],\n",
      "        [ 0.9842, -0.3593,  0.9068, -1.1487],\n",
      "        [ 1.2145,  0.1246, -1.1406,  0.3142],\n",
      "        [ 2.0485,  0.3520, -0.8422, -0.0529]]) tensor([-0.2731,  0.6842,  0.4001,  1.3177,  0.9842, -0.3593,  0.9068, -1.1487,\n",
      "         1.2145,  0.1246, -1.1406,  0.3142,  2.0485,  0.3520, -0.8422, -0.0529])\n",
      "tensor([ 0.7269,  1.6842,  1.4001,  2.3177,  1.9842,  0.6407,  1.9068, -0.1487,\n",
      "         2.2145,  1.1246, -0.1406,  1.3142,  3.0485,  1.3520,  0.1578,  0.9471])\n",
      "tensor([[ 0.7269,  1.6842,  1.4001,  2.3177],\n",
      "        [ 1.9842,  0.6407,  1.9068, -0.1487],\n",
      "        [ 2.2145,  1.1246, -0.1406,  1.3142],\n",
      "        [ 3.0485,  1.3520,  0.1578,  0.9471]])\n"
     ]
    }
   ],
   "source": [
    "x = torch.randn(4, 4)\n",
    "x.size()\n",
    "y = x.view(16)\n",
    "print(id(x),id(y))\n",
    "print(x,y)\n",
    "y.add_(1)\n",
    "print(y)\n",
    "print(x)\n"
   ]
  },
  {
   "cell_type": "code",
   "execution_count": 21,
   "metadata": {},
   "outputs": [
    {
     "data": {
      "text/plain": [
       "tensor([[0, 3, 6],\n",
       "        [1, 4, 7],\n",
       "        [2, 5, 8]])"
      ]
     },
     "execution_count": 21,
     "metadata": {},
     "output_type": "execute_result"
    }
   ],
   "source": [
    "'''\n",
    "tensor([[0, 3, 6],\n",
    "        [1, 4, 7],\n",
    "        [2, 5, 8]])\n",
    "'''\n",
    "n=torch.arange(9).view((3,3)).T\n",
    "n"
   ]
  },
  {
   "cell_type": "code",
   "execution_count": 24,
   "metadata": {},
   "outputs": [
    {
     "data": {
      "text/plain": [
       "tensor([0, 1, 2, 3, 4, 0, 1, 2, 3, 4, 0, 1, 2, 3, 4])"
      ]
     },
     "execution_count": 24,
     "metadata": {},
     "output_type": "execute_result"
    }
   ],
   "source": [
    "a=torch.arange(5)\n",
    "b=torch.cat((a,a,a))\n",
    "b"
   ]
  },
  {
   "cell_type": "code",
   "execution_count": 27,
   "metadata": {},
   "outputs": [
    {
     "name": "stdout",
     "output_type": "stream",
     "text": [
      "tensor([0, 1, 2, 3, 4, 0, 1, 2, 3, 4, 0, 1, 2, 3, 4, 0, 1, 2, 3, 4])\n"
     ]
    },
    {
     "data": {
      "text/plain": [
       "tensor([[0, 1, 2, 3, 4],\n",
       "        [0, 1, 2, 3, 4],\n",
       "        [0, 1, 2, 3, 4],\n",
       "        [0, 1, 2, 3, 4]])"
      ]
     },
     "execution_count": 27,
     "metadata": {},
     "output_type": "execute_result"
    }
   ],
   "source": [
    "import torch\n",
    "\n",
    "# Define the tensor 'a'\n",
    "a = torch.arange(5)\n",
    "\n",
    "# Specify the number of times you want to repeat 'a'\n",
    "num_repeats = 4\n",
    "\n",
    "# Repeat 'a' an arbitrary number of times\n",
    "b = a.repeat(num_repeats)\n",
    "\n",
    "print(b)\n",
    "\n",
    "c=a.repeat(4,1)\n",
    "c"
   ]
  },
  {
   "cell_type": "code",
   "execution_count": 29,
   "metadata": {},
   "outputs": [
    {
     "data": {
      "text/plain": [
       "tensor([[ 0.2208, -0.5079,  0.1171, -0.8050, -0.7198],\n",
       "        [-0.5079, -0.4351,  0.3247, -0.5068, -0.5457],\n",
       "        [ 0.1171,  0.3247, -1.6917,  0.0244, -0.5337],\n",
       "        [-0.8050, -0.5068,  0.0244, -1.1162,  0.6678],\n",
       "        [-0.7198, -0.5457, -0.5337,  0.6678,  0.0862]])"
      ]
     },
     "execution_count": 29,
     "metadata": {},
     "output_type": "execute_result"
    }
   ],
   "source": [
    "import torch\n",
    "\n",
    "def symmetric_matrix(size):\n",
    "    # Generate a random matrix\n",
    "    matrix = torch.randn(size, size)\n",
    "    # Make it symmetric by averaging it with its transpose\n",
    "    symmetric = (matrix + matrix.t()) / 2\n",
    "    return symmetric\n",
    "\n",
    "symmetric_matrix(5)"
   ]
  },
  {
   "cell_type": "code",
   "execution_count": 33,
   "metadata": {},
   "outputs": [
    {
     "name": "stdout",
     "output_type": "stream",
     "text": [
      "tensor([[1., 0., 0., 0.],\n",
      "        [0., 1., 0., 0.],\n",
      "        [0., 0., 1., 0.],\n",
      "        [0., 0., 0., 1.]])\n",
      "tensor([[1., 0., 0., 0.],\n",
      "        [0., 1., 0., 0.],\n",
      "        [0., 0., 1., 0.],\n",
      "        [0., 0., 0., 1.]])\n",
      "tensor([[-1.,  0.,  0.,  0.],\n",
      "        [ 0., -1.,  0.,  0.],\n",
      "        [ 0.,  0., -1.,  0.],\n",
      "        [ 0.,  0.,  0., -1.]])\n"
     ]
    }
   ],
   "source": [
    "import torch\n",
    "\n",
    "matrix = torch.diag(torch.ones(4)) - 2 * torch.eye(4)\n",
    "print(torch.diag(torch.ones(4)))\n",
    "print(torch.eye(4))\n",
    "print(matrix)"
   ]
  },
  {
   "cell_type": "code",
   "execution_count": 43,
   "metadata": {},
   "outputs": [
    {
     "name": "stdout",
     "output_type": "stream",
     "text": [
      "tensor([[ 1., -2.,  0.,  0.],\n",
      "        [-2.,  1., -2.,  0.],\n",
      "        [ 0., -2.,  1., -2.],\n",
      "        [ 0.,  0., -2.,  1.]])\n"
     ]
    }
   ],
   "source": [
    "my_mat=torch.diag(-2*torch.ones(3),-1)+torch.diag(torch.ones(4),0)+torch.diag(-2*torch.ones(3),1)\n",
    "print(my_mat)"
   ]
  },
  {
   "cell_type": "code",
   "execution_count": 40,
   "metadata": {},
   "outputs": [
    {
     "data": {
      "text/plain": [
       "tensor([[ 0.,  0.,  0.,  0.,  0.],\n",
       "        [-2.,  0.,  0.,  0.,  0.],\n",
       "        [ 0., -2.,  0.,  0.,  0.],\n",
       "        [ 0.,  0., -2.,  0.,  0.],\n",
       "        [ 0.,  0.,  0., -2.,  0.]])"
      ]
     },
     "execution_count": 40,
     "metadata": {},
     "output_type": "execute_result"
    }
   ],
   "source": [
    "torch.diag(torch.ones(4),0)\n",
    "torch.diag(-2*torch.ones(4),-1)"
   ]
  },
  {
   "cell_type": "code",
   "execution_count": 49,
   "metadata": {},
   "outputs": [
    {
     "name": "stdout",
     "output_type": "stream",
     "text": [
      "tensor([[[[0, 1, 2]]]])\n",
      "tensor([[[1., 1.]]])\n",
      "tensor([[[1.]],\n",
      "\n",
      "        [[1.]]])\n"
     ]
    }
   ],
   "source": [
    "'''\n",
    "tensor([[[[0, 1, 2]]]])\n",
    "'''\n",
    "#Recursion\n",
    "\n",
    "# Create the tensor using arange\n",
    "#Singleton dimensions\n",
    "result_tensor = torch.arange(3).reshape(1, 1, 1, 3)\n",
    "\n",
    "print(result_tensor)\n",
    "\n",
    "print(torch.ones(1,1,2))\n",
    "\n",
    "print(torch.ones(2,1,1))\n",
    "\n",
    "#This is important to understand!!!\n"
   ]
  },
  {
   "cell_type": "code",
   "execution_count": 53,
   "metadata": {},
   "outputs": [
    {
     "name": "stdout",
     "output_type": "stream",
     "text": [
      "tensor([[0, 1, 2],\n",
      "        [1, 2, 3],\n",
      "        [2, 3, 4],\n",
      "        [3, 4, 5]])\n"
     ]
    }
   ],
   "source": [
    "'''\n",
    "Construct with Broadcasting\n",
    "tensor([[0, 1, 2],\n",
    "        [1, 2, 3],\n",
    "        [2, 3, 4],\n",
    "        [3, 4, 5]])\n",
    "'''\n",
    "a=torch.arange(3).view(1,3)\n",
    "b=torch.arange(4).view(4,1)\n",
    "print(a+b)"
   ]
  },
  {
   "cell_type": "code",
   "execution_count": 59,
   "metadata": {},
   "outputs": [
    {
     "name": "stdout",
     "output_type": "stream",
     "text": [
      "tensor([[0., 1.],\n",
      "        [2., 3.],\n",
      "        [4., 5.],\n",
      "        [6., 7.],\n",
      "        [8., 9.]], dtype=torch.float64)\n",
      "tensor([[[ 0.,  1.],\n",
      "         [ 0.,  1.],\n",
      "         [ 0.,  1.],\n",
      "         [ 0.,  1.],\n",
      "         [ 0.,  1.]],\n",
      "\n",
      "        [[-1.,  0.],\n",
      "         [-1.,  0.],\n",
      "         [-1.,  0.],\n",
      "         [-1.,  0.],\n",
      "         [-1.,  0.]]], dtype=torch.float64)\n"
     ]
    }
   ],
   "source": [
    "X = torch.arange(10, dtype=float).reshape(5, 2)\n",
    "print(X)\n",
    "Y=X.view(1,5,2)\n",
    "print(X-Y.T)"
   ]
  },
  {
   "cell_type": "code",
   "execution_count": 65,
   "metadata": {},
   "outputs": [
    {
     "data": {
      "text/plain": [
       "torch.Size([5, 1, 1, 2])"
      ]
     },
     "execution_count": 65,
     "metadata": {},
     "output_type": "execute_result"
    }
   ],
   "source": [
    "X[:, None] -X\n",
    "\n",
    "X[:,None].shape\n",
    "\n",
    "vv=X[:,None,None]\n",
    "vv.shape"
   ]
  },
  {
   "cell_type": "code",
   "execution_count": 60,
   "metadata": {},
   "outputs": [
    {
     "name": "stdout",
     "output_type": "stream",
     "text": [
      "tensor([[ 0.0000,  2.8284,  5.6569,  8.4853, 11.3137],\n",
      "        [ 2.8284,  0.0000,  2.8284,  5.6569,  8.4853],\n",
      "        [ 5.6569,  2.8284,  0.0000,  2.8284,  5.6569],\n",
      "        [ 8.4853,  5.6569,  2.8284,  0.0000,  2.8284],\n",
      "        [11.3137,  8.4853,  5.6569,  2.8284,  0.0000]])\n"
     ]
    }
   ],
   "source": [
    "import torch\n",
    "\n",
    "# Define the data\n",
    "X = torch.arange(10, dtype=torch.float).reshape(5, 2)\n",
    "\n",
    "# Compute the Euclidean distance\n",
    "distances = torch.sqrt(torch.sum((X[:, None] - X) ** 2, dim=2))\n",
    "\n",
    "print(distances)"
   ]
  }
 ],
 "metadata": {
  "kernelspec": {
   "display_name": "base",
   "language": "python",
   "name": "python3"
  },
  "language_info": {
   "codemirror_mode": {
    "name": "ipython",
    "version": 3
   },
   "file_extension": ".py",
   "mimetype": "text/x-python",
   "name": "python",
   "nbconvert_exporter": "python",
   "pygments_lexer": "ipython3",
   "version": "3.9.13"
  }
 },
 "nbformat": 4,
 "nbformat_minor": 2
}
