{
 "cells": [
  {
   "cell_type": "code",
   "execution_count": 2,
   "metadata": {},
   "outputs": [],
   "source": [
    "import torch\n",
    "import torch.distributions as dist\n",
    "import matplotlib.pyplot as plt"
   ]
  },
  {
   "cell_type": "code",
   "execution_count": 17,
   "metadata": {},
   "outputs": [
    {
     "name": "stdout",
     "output_type": "stream",
     "text": [
      "torch.Size([9])\n",
      "tensor([0, 1, 2, 3, 4, 5, 6, 7, 8]) tensor([[0, 1, 2],\n",
      "        [3, 4, 5],\n",
      "        [6, 7, 8]])\n",
      "tensor([1, 2, 3, 4, 5, 6, 7, 8, 9]) tensor([[1, 2, 3],\n",
      "        [4, 5, 6],\n",
      "        [7, 8, 9]])\n"
     ]
    }
   ],
   "source": [
    "a=torch.arange(0,9)\n",
    "print(a.shape)\n",
    "b=torch.reshape(a,(3,3))\n",
    "print(a,b)\n",
    "b.add_(1)\n",
    "print(a,b)"
   ]
  },
  {
   "cell_type": "code",
   "execution_count": 15,
   "metadata": {},
   "outputs": [
    {
     "name": "stdout",
     "output_type": "stream",
     "text": [
      "123869271533824 123869276329360\n",
      "tensor([[-0.2731,  0.6842,  0.4001,  1.3177],\n",
      "        [ 0.9842, -0.3593,  0.9068, -1.1487],\n",
      "        [ 1.2145,  0.1246, -1.1406,  0.3142],\n",
      "        [ 2.0485,  0.3520, -0.8422, -0.0529]]) tensor([-0.2731,  0.6842,  0.4001,  1.3177,  0.9842, -0.3593,  0.9068, -1.1487,\n",
      "         1.2145,  0.1246, -1.1406,  0.3142,  2.0485,  0.3520, -0.8422, -0.0529])\n",
      "tensor([ 0.7269,  1.6842,  1.4001,  2.3177,  1.9842,  0.6407,  1.9068, -0.1487,\n",
      "         2.2145,  1.1246, -0.1406,  1.3142,  3.0485,  1.3520,  0.1578,  0.9471])\n",
      "tensor([[ 0.7269,  1.6842,  1.4001,  2.3177],\n",
      "        [ 1.9842,  0.6407,  1.9068, -0.1487],\n",
      "        [ 2.2145,  1.1246, -0.1406,  1.3142],\n",
      "        [ 3.0485,  1.3520,  0.1578,  0.9471]])\n"
     ]
    }
   ],
   "source": [
    "x = torch.randn(4, 4)\n",
    "x.size()\n",
    "y = x.view(16)\n",
    "print(id(x),id(y))\n",
    "print(x,y)\n",
    "y.add_(1)\n",
    "print(y)\n",
    "print(x)\n"
   ]
  },
  {
   "cell_type": "code",
   "execution_count": 21,
   "metadata": {},
   "outputs": [
    {
     "data": {
      "text/plain": [
       "tensor([[0, 3, 6],\n",
       "        [1, 4, 7],\n",
       "        [2, 5, 8]])"
      ]
     },
     "execution_count": 21,
     "metadata": {},
     "output_type": "execute_result"
    }
   ],
   "source": [
    "'''\n",
    "tensor([[0, 3, 6],\n",
    "        [1, 4, 7],\n",
    "        [2, 5, 8]])\n",
    "'''\n",
    "n=torch.arange(9).view((3,3)).T\n",
    "n"
   ]
  },
  {
   "cell_type": "code",
   "execution_count": 24,
   "metadata": {},
   "outputs": [
    {
     "data": {
      "text/plain": [
       "tensor([0, 1, 2, 3, 4, 0, 1, 2, 3, 4, 0, 1, 2, 3, 4])"
      ]
     },
     "execution_count": 24,
     "metadata": {},
     "output_type": "execute_result"
    }
   ],
   "source": [
    "a=torch.arange(5)\n",
    "b=torch.cat((a,a,a))\n",
    "b"
   ]
  },
  {
   "cell_type": "code",
   "execution_count": 25,
   "metadata": {},
   "outputs": [
    {
     "name": "stdout",
     "output_type": "stream",
     "text": [
      "tensor([0, 1, 2, 3, 4, 0, 1, 2, 3, 4, 0, 1, 2, 3, 4, 0, 1, 2, 3, 4])\n"
     ]
    }
   ],
   "source": [
    "import torch\n",
    "\n",
    "# Define the tensor 'a'\n",
    "a = torch.arange(5)\n",
    "\n",
    "# Specify the number of times you want to repeat 'a'\n",
    "num_repeats = 4\n",
    "\n",
    "# Repeat 'a' an arbitrary number of times\n",
    "b = a.repeat(num_repeats)\n",
    "\n",
    "print(b)"
   ]
  }
 ],
 "metadata": {
  "kernelspec": {
   "display_name": "base",
   "language": "python",
   "name": "python3"
  },
  "language_info": {
   "codemirror_mode": {
    "name": "ipython",
    "version": 3
   },
   "file_extension": ".py",
   "mimetype": "text/x-python",
   "name": "python",
   "nbconvert_exporter": "python",
   "pygments_lexer": "ipython3",
   "version": "3.9.13"
  }
 },
 "nbformat": 4,
 "nbformat_minor": 2
}
