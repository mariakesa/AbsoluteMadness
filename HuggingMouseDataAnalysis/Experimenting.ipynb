{
 "cells": [
  {
   "cell_type": "code",
   "execution_count": 4,
   "id": "2c9bfdcb",
   "metadata": {},
   "outputs": [],
   "source": [
    "#Start and then keep going\n",
    "import pandas as pd\n",
    "\n",
    "df=pd.read_csv('/media/maria/DATA/BrainObservatoryProcessedData/analysis/b3a87088dd80a7cb1bae9564561954c3e23b872a.csv')"
   ]
  },
  {
   "cell_type": "code",
   "execution_count": 3,
   "id": "e5f3a984",
   "metadata": {
    "scrolled": true
   },
   "outputs": [
    {
     "data": {
      "text/html": [
       "<div>\n",
       "<style scoped>\n",
       "    .dataframe tbody tr th:only-of-type {\n",
       "        vertical-align: middle;\n",
       "    }\n",
       "\n",
       "    .dataframe tbody tr th {\n",
       "        vertical-align: top;\n",
       "    }\n",
       "\n",
       "    .dataframe thead th {\n",
       "        text-align: right;\n",
       "    }\n",
       "</style>\n",
       "<table border=\"1\" class=\"dataframe\">\n",
       "  <thead>\n",
       "    <tr style=\"text-align: right;\">\n",
       "      <th></th>\n",
       "      <th>Unnamed: 0</th>\n",
       "      <th>cell_ids</th>\n",
       "      <th>three_session_A_natural_movie_one_0_r2_score</th>\n",
       "      <th>three_session_A_natural_movie_one_0_mean_squared_error</th>\n",
       "      <th>three_session_A_natural_movie_one_0_explained_variance_score</th>\n",
       "      <th>three_session_A_natural_movie_one_1_r2_score</th>\n",
       "      <th>three_session_A_natural_movie_one_1_mean_squared_error</th>\n",
       "      <th>three_session_A_natural_movie_one_1_explained_variance_score</th>\n",
       "      <th>three_session_A_natural_movie_one_2_r2_score</th>\n",
       "      <th>three_session_A_natural_movie_one_2_mean_squared_error</th>\n",
       "      <th>...</th>\n",
       "      <th>three_session_C_natural_movie_two_6_explained_variance_score</th>\n",
       "      <th>three_session_C_natural_movie_two_7_r2_score</th>\n",
       "      <th>three_session_C_natural_movie_two_7_mean_squared_error</th>\n",
       "      <th>three_session_C_natural_movie_two_7_explained_variance_score</th>\n",
       "      <th>three_session_C_natural_movie_two_8_r2_score</th>\n",
       "      <th>three_session_C_natural_movie_two_8_mean_squared_error</th>\n",
       "      <th>three_session_C_natural_movie_two_8_explained_variance_score</th>\n",
       "      <th>three_session_C_natural_movie_two_9_r2_score</th>\n",
       "      <th>three_session_C_natural_movie_two_9_mean_squared_error</th>\n",
       "      <th>three_session_C_natural_movie_two_9_explained_variance_score</th>\n",
       "    </tr>\n",
       "  </thead>\n",
       "  <tbody>\n",
       "    <tr>\n",
       "      <th>0</th>\n",
       "      <td>0</td>\n",
       "      <td>599564600</td>\n",
       "      <td>0.388756</td>\n",
       "      <td>0.022207</td>\n",
       "      <td>0.390725</td>\n",
       "      <td>0.297172</td>\n",
       "      <td>0.032362</td>\n",
       "      <td>0.297984</td>\n",
       "      <td>0.517117</td>\n",
       "      <td>0.019627</td>\n",
       "      <td>...</td>\n",
       "      <td>NaN</td>\n",
       "      <td>NaN</td>\n",
       "      <td>NaN</td>\n",
       "      <td>NaN</td>\n",
       "      <td>NaN</td>\n",
       "      <td>NaN</td>\n",
       "      <td>NaN</td>\n",
       "      <td>NaN</td>\n",
       "      <td>NaN</td>\n",
       "      <td>NaN</td>\n",
       "    </tr>\n",
       "    <tr>\n",
       "      <th>1</th>\n",
       "      <td>1</td>\n",
       "      <td>599564642</td>\n",
       "      <td>0.132044</td>\n",
       "      <td>0.014842</td>\n",
       "      <td>0.133452</td>\n",
       "      <td>0.296526</td>\n",
       "      <td>0.019289</td>\n",
       "      <td>0.305931</td>\n",
       "      <td>0.234717</td>\n",
       "      <td>0.048304</td>\n",
       "      <td>...</td>\n",
       "      <td>0.012609</td>\n",
       "      <td>0.346370</td>\n",
       "      <td>0.027953</td>\n",
       "      <td>0.346397</td>\n",
       "      <td>0.281997</td>\n",
       "      <td>0.061860</td>\n",
       "      <td>0.283391</td>\n",
       "      <td>-0.022513</td>\n",
       "      <td>0.016412</td>\n",
       "      <td>-0.021434</td>\n",
       "    </tr>\n",
       "    <tr>\n",
       "      <th>2</th>\n",
       "      <td>2</td>\n",
       "      <td>599564546</td>\n",
       "      <td>0.080096</td>\n",
       "      <td>0.009482</td>\n",
       "      <td>0.080770</td>\n",
       "      <td>0.689188</td>\n",
       "      <td>0.038246</td>\n",
       "      <td>0.694388</td>\n",
       "      <td>0.416828</td>\n",
       "      <td>0.010749</td>\n",
       "      <td>...</td>\n",
       "      <td>0.012227</td>\n",
       "      <td>0.204836</td>\n",
       "      <td>0.014025</td>\n",
       "      <td>0.207508</td>\n",
       "      <td>0.043528</td>\n",
       "      <td>0.013875</td>\n",
       "      <td>0.049606</td>\n",
       "      <td>0.061019</td>\n",
       "      <td>0.015778</td>\n",
       "      <td>0.064620</td>\n",
       "    </tr>\n",
       "    <tr>\n",
       "      <th>3</th>\n",
       "      <td>3</td>\n",
       "      <td>599564614</td>\n",
       "      <td>0.552417</td>\n",
       "      <td>0.006862</td>\n",
       "      <td>0.555473</td>\n",
       "      <td>0.686293</td>\n",
       "      <td>0.011604</td>\n",
       "      <td>0.686335</td>\n",
       "      <td>0.782891</td>\n",
       "      <td>0.017831</td>\n",
       "      <td>...</td>\n",
       "      <td>0.853490</td>\n",
       "      <td>0.823100</td>\n",
       "      <td>0.114606</td>\n",
       "      <td>0.823710</td>\n",
       "      <td>0.813362</td>\n",
       "      <td>0.036908</td>\n",
       "      <td>0.813882</td>\n",
       "      <td>0.818102</td>\n",
       "      <td>0.057641</td>\n",
       "      <td>0.818718</td>\n",
       "    </tr>\n",
       "    <tr>\n",
       "      <th>4</th>\n",
       "      <td>4</td>\n",
       "      <td>599564624</td>\n",
       "      <td>0.893250</td>\n",
       "      <td>0.049153</td>\n",
       "      <td>0.894172</td>\n",
       "      <td>0.869080</td>\n",
       "      <td>0.173947</td>\n",
       "      <td>0.870523</td>\n",
       "      <td>0.882212</td>\n",
       "      <td>0.085469</td>\n",
       "      <td>...</td>\n",
       "      <td>0.842489</td>\n",
       "      <td>0.707587</td>\n",
       "      <td>0.064577</td>\n",
       "      <td>0.708834</td>\n",
       "      <td>0.502994</td>\n",
       "      <td>0.011844</td>\n",
       "      <td>0.503424</td>\n",
       "      <td>0.783377</td>\n",
       "      <td>0.047327</td>\n",
       "      <td>0.784023</td>\n",
       "    </tr>\n",
       "  </tbody>\n",
       "</table>\n",
       "<p>5 rows × 152 columns</p>\n",
       "</div>"
      ],
      "text/plain": [
       "   Unnamed: 0   cell_ids  three_session_A_natural_movie_one_0_r2_score  \\\n",
       "0           0  599564600                                      0.388756   \n",
       "1           1  599564642                                      0.132044   \n",
       "2           2  599564546                                      0.080096   \n",
       "3           3  599564614                                      0.552417   \n",
       "4           4  599564624                                      0.893250   \n",
       "\n",
       "   three_session_A_natural_movie_one_0_mean_squared_error  \\\n",
       "0                                           0.022207        \n",
       "1                                           0.014842        \n",
       "2                                           0.009482        \n",
       "3                                           0.006862        \n",
       "4                                           0.049153        \n",
       "\n",
       "   three_session_A_natural_movie_one_0_explained_variance_score  \\\n",
       "0                                           0.390725              \n",
       "1                                           0.133452              \n",
       "2                                           0.080770              \n",
       "3                                           0.555473              \n",
       "4                                           0.894172              \n",
       "\n",
       "   three_session_A_natural_movie_one_1_r2_score  \\\n",
       "0                                      0.297172   \n",
       "1                                      0.296526   \n",
       "2                                      0.689188   \n",
       "3                                      0.686293   \n",
       "4                                      0.869080   \n",
       "\n",
       "   three_session_A_natural_movie_one_1_mean_squared_error  \\\n",
       "0                                           0.032362        \n",
       "1                                           0.019289        \n",
       "2                                           0.038246        \n",
       "3                                           0.011604        \n",
       "4                                           0.173947        \n",
       "\n",
       "   three_session_A_natural_movie_one_1_explained_variance_score  \\\n",
       "0                                           0.297984              \n",
       "1                                           0.305931              \n",
       "2                                           0.694388              \n",
       "3                                           0.686335              \n",
       "4                                           0.870523              \n",
       "\n",
       "   three_session_A_natural_movie_one_2_r2_score  \\\n",
       "0                                      0.517117   \n",
       "1                                      0.234717   \n",
       "2                                      0.416828   \n",
       "3                                      0.782891   \n",
       "4                                      0.882212   \n",
       "\n",
       "   three_session_A_natural_movie_one_2_mean_squared_error  ...  \\\n",
       "0                                           0.019627       ...   \n",
       "1                                           0.048304       ...   \n",
       "2                                           0.010749       ...   \n",
       "3                                           0.017831       ...   \n",
       "4                                           0.085469       ...   \n",
       "\n",
       "   three_session_C_natural_movie_two_6_explained_variance_score  \\\n",
       "0                                                NaN              \n",
       "1                                           0.012609              \n",
       "2                                           0.012227              \n",
       "3                                           0.853490              \n",
       "4                                           0.842489              \n",
       "\n",
       "   three_session_C_natural_movie_two_7_r2_score  \\\n",
       "0                                           NaN   \n",
       "1                                      0.346370   \n",
       "2                                      0.204836   \n",
       "3                                      0.823100   \n",
       "4                                      0.707587   \n",
       "\n",
       "   three_session_C_natural_movie_two_7_mean_squared_error  \\\n",
       "0                                                NaN        \n",
       "1                                           0.027953        \n",
       "2                                           0.014025        \n",
       "3                                           0.114606        \n",
       "4                                           0.064577        \n",
       "\n",
       "   three_session_C_natural_movie_two_7_explained_variance_score  \\\n",
       "0                                                NaN              \n",
       "1                                           0.346397              \n",
       "2                                           0.207508              \n",
       "3                                           0.823710              \n",
       "4                                           0.708834              \n",
       "\n",
       "   three_session_C_natural_movie_two_8_r2_score  \\\n",
       "0                                           NaN   \n",
       "1                                      0.281997   \n",
       "2                                      0.043528   \n",
       "3                                      0.813362   \n",
       "4                                      0.502994   \n",
       "\n",
       "   three_session_C_natural_movie_two_8_mean_squared_error  \\\n",
       "0                                                NaN        \n",
       "1                                           0.061860        \n",
       "2                                           0.013875        \n",
       "3                                           0.036908        \n",
       "4                                           0.011844        \n",
       "\n",
       "   three_session_C_natural_movie_two_8_explained_variance_score  \\\n",
       "0                                                NaN              \n",
       "1                                           0.283391              \n",
       "2                                           0.049606              \n",
       "3                                           0.813882              \n",
       "4                                           0.503424              \n",
       "\n",
       "   three_session_C_natural_movie_two_9_r2_score  \\\n",
       "0                                           NaN   \n",
       "1                                     -0.022513   \n",
       "2                                      0.061019   \n",
       "3                                      0.818102   \n",
       "4                                      0.783377   \n",
       "\n",
       "   three_session_C_natural_movie_two_9_mean_squared_error  \\\n",
       "0                                                NaN        \n",
       "1                                           0.016412        \n",
       "2                                           0.015778        \n",
       "3                                           0.057641        \n",
       "4                                           0.047327        \n",
       "\n",
       "   three_session_C_natural_movie_two_9_explained_variance_score  \n",
       "0                                                NaN             \n",
       "1                                          -0.021434             \n",
       "2                                           0.064620             \n",
       "3                                           0.818718             \n",
       "4                                           0.784023             \n",
       "\n",
       "[5 rows x 152 columns]"
      ]
     },
     "execution_count": 3,
     "metadata": {},
     "output_type": "execute_result"
    }
   ],
   "source": [
    "df.head()"
   ]
  },
  {
   "cell_type": "code",
   "execution_count": 10,
   "id": "affe09b3",
   "metadata": {},
   "outputs": [
    {
     "name": "stdout",
     "output_type": "stream",
     "text": [
      "0     0.020374\n",
      "1     0.039361\n",
      "2     0.013012\n",
      "3     0.036233\n",
      "4     0.081114\n",
      "5     0.018444\n",
      "6     0.233034\n",
      "7     0.012368\n",
      "8     0.030685\n",
      "9     0.011572\n",
      "10    0.016703\n",
      "11    0.013583\n",
      "12    0.029842\n",
      "13    0.018058\n",
      "14    0.016157\n",
      "15    0.017430\n",
      "16    0.014117\n",
      "17    0.016477\n",
      "18    0.009997\n",
      "19    0.010101\n",
      "20    0.006621\n",
      "21    0.008580\n",
      "22    0.021518\n",
      "23    0.021893\n",
      "dtype: float64\n"
     ]
    }
   ],
   "source": [
    "import re\n",
    "import numpy as np\n",
    "# Get columns that contain 'mean_squared_error'\n",
    "mean_squared_columns = [col for col in df.columns if re.search(r'mean_squared_error', col)]\n",
    "\n",
    "# Select columns from DataFrame\n",
    "selected_columns_df = df[mean_squared_columns]\n",
    "\n",
    "means=np.mean(selected_columns_df,axis=1)\n",
    "\n",
    "print(means)"
   ]
  },
  {
   "cell_type": "code",
   "execution_count": 21,
   "id": "4e3376e0",
   "metadata": {},
   "outputs": [],
   "source": [
    "a=selected_columns_df.iloc[6,:]"
   ]
  },
  {
   "cell_type": "code",
   "execution_count": 24,
   "id": "246209be",
   "metadata": {},
   "outputs": [
    {
     "data": {
      "text/plain": [
       "0     0.020374\n",
       "1     0.039361\n",
       "2     0.013012\n",
       "3     0.036233\n",
       "4     0.081114\n",
       "5     0.018444\n",
       "6     0.233034\n",
       "7     0.012368\n",
       "8     0.030685\n",
       "9     0.011572\n",
       "10    0.016703\n",
       "11    0.013583\n",
       "12    0.029842\n",
       "13    0.018058\n",
       "14    0.016157\n",
       "15    0.017430\n",
       "16    0.014117\n",
       "17    0.016477\n",
       "18    0.009997\n",
       "19    0.010101\n",
       "20    0.006621\n",
       "21    0.008580\n",
       "22    0.021518\n",
       "23    0.021893\n",
       "dtype: float64"
      ]
     },
     "execution_count": 24,
     "metadata": {},
     "output_type": "execute_result"
    }
   ],
   "source": [
    "np.mean(selected_columns_df,axis=1)"
   ]
  },
  {
   "cell_type": "code",
   "execution_count": 23,
   "id": "2a9b28b3",
   "metadata": {},
   "outputs": [
    {
     "data": {
      "text/plain": [
       "(array([35.,  5.,  1.,  1.,  1.,  1.,  1.,  0.,  1.,  2.,  0.,  0.,  0.,\n",
       "         1.,  0.,  0.,  0.,  0.,  0.,  1.]),\n",
       " array([0.00908913, 0.12171093, 0.23433274, 0.34695454, 0.45957634,\n",
       "        0.57219815, 0.68481995, 0.79744176, 0.91006356, 1.02268537,\n",
       "        1.13530717, 1.24792898, 1.36055078, 1.47317258, 1.58579439,\n",
       "        1.69841619, 1.811038  , 1.9236598 , 2.03628161, 2.14890341,\n",
       "        2.26152522]),\n",
       " <BarContainer object of 20 artists>)"
      ]
     },
     "execution_count": 23,
     "metadata": {},
     "output_type": "execute_result"
    },
    {
     "data": {
      "image/png": "[encoded data removed]",
      "text/plain": [
       "<Figure size 640x480 with 1 Axes>"
      ]
     },
     "metadata": {},
     "output_type": "display_data"
    }
   ],
   "source": [
    "plt.hist(a,bins=20)"
   ]
  },
  {
   "cell_type": "code",
   "execution_count": 12,
   "id": "30991b52",
   "metadata": {
    "scrolled": false
   },
   "outputs": [
    {
     "data": {
      "text/plain": [
       "(array([13.,  5.,  4.,  0.,  0.,  0.,  1.,  0.,  0.,  0.,  0.,  0.,  0.,\n",
       "         0.,  0.,  0.,  0.,  0.,  0.,  1.]),\n",
       " array([0.00662067, 0.01794136, 0.02926206, 0.04058275, 0.05190344,\n",
       "        0.06322413, 0.07454482, 0.08586551, 0.0971862 , 0.10850689,\n",
       "        0.11982758, 0.13114827, 0.14246896, 0.15378965, 0.16511035,\n",
       "        0.17643104, 0.18775173, 0.19907242, 0.21039311, 0.2217138 ,\n",
       "        0.23303449]),\n",
       " <BarContainer object of 20 artists>)"
      ]
     },
     "execution_count": 12,
     "metadata": {},
     "output_type": "execute_result"
    },
    {
     "data": {
      "image/png": "[encoded data removed]",
      "text/plain": [
       "<Figure size 640x480 with 1 Axes>"
      ]
     },
     "metadata": {},
     "output_type": "display_data"
    }
   ],
   "source": [
    "import matplotlib.pyplot as plt\n",
    "\n",
    "plt.hist(means, bins=20)"
   ]
  },
  {
   "cell_type": "code",
   "execution_count": 35,
   "id": "72610af5",
   "metadata": {
    "scrolled": true
   },
   "outputs": [
    {
     "name": "stdout",
     "output_type": "stream",
     "text": [
      "0.052373137640926125\n",
      "0.05237313764092612\n"
     ]
    }
   ],
   "source": [
    "#This is LINEARITY OF EXPECTATION\n",
    "dat=selected_columns_df.dropna()\n",
    "print(np.mean(dat.iloc[0,:]+dat.iloc[1,:]))\n",
    "print(np.mean(dat.iloc[0,:])+np.mean(dat.iloc[1,:]))"
   ]
  },
  {
   "cell_type": "code",
   "execution_count": 37,
   "id": "23b313e8",
   "metadata": {},
   "outputs": [
    {
     "data": {
      "text/plain": [
       "three_session_A_natural_movie_one_0_mean_squared_error      0.009482\n",
       "three_session_A_natural_movie_one_1_mean_squared_error      0.038246\n",
       "three_session_A_natural_movie_one_2_mean_squared_error      0.010749\n",
       "three_session_A_natural_movie_one_3_mean_squared_error      0.008497\n",
       "three_session_A_natural_movie_one_4_mean_squared_error      0.008969\n",
       "three_session_A_natural_movie_one_5_mean_squared_error      0.008112\n",
       "three_session_A_natural_movie_one_6_mean_squared_error      0.009311\n",
       "three_session_A_natural_movie_one_7_mean_squared_error      0.008282\n",
       "three_session_A_natural_movie_one_8_mean_squared_error      0.007222\n",
       "three_session_A_natural_movie_one_9_mean_squared_error      0.007299\n",
       "three_session_A_natural_movie_three_0_mean_squared_error    0.008255\n",
       "three_session_A_natural_movie_three_1_mean_squared_error    0.007577\n",
       "three_session_A_natural_movie_three_2_mean_squared_error    0.007643\n",
       "three_session_A_natural_movie_three_3_mean_squared_error    0.007227\n",
       "three_session_A_natural_movie_three_4_mean_squared_error    0.007431\n",
       "three_session_A_natural_movie_three_5_mean_squared_error    0.011224\n",
       "three_session_A_natural_movie_three_6_mean_squared_error    0.016639\n",
       "three_session_A_natural_movie_three_7_mean_squared_error    0.012996\n",
       "three_session_A_natural_movie_three_8_mean_squared_error    0.014106\n",
       "three_session_A_natural_movie_three_9_mean_squared_error    0.013355\n",
       "three_session_B_natural_movie_one_0_mean_squared_error      0.010100\n",
       "three_session_B_natural_movie_one_1_mean_squared_error      0.009427\n",
       "three_session_B_natural_movie_one_2_mean_squared_error      0.011561\n",
       "three_session_B_natural_movie_one_3_mean_squared_error      0.011634\n",
       "three_session_B_natural_movie_one_4_mean_squared_error      0.012453\n",
       "three_session_B_natural_movie_one_5_mean_squared_error      0.012762\n",
       "three_session_B_natural_movie_one_6_mean_squared_error      0.014190\n",
       "three_session_B_natural_movie_one_7_mean_squared_error      0.010351\n",
       "three_session_B_natural_movie_one_8_mean_squared_error      0.009639\n",
       "three_session_B_natural_movie_one_9_mean_squared_error      0.012566\n",
       "three_session_C_natural_movie_one_0_mean_squared_error      0.015219\n",
       "three_session_C_natural_movie_one_1_mean_squared_error      0.028814\n",
       "three_session_C_natural_movie_one_2_mean_squared_error      0.015748\n",
       "three_session_C_natural_movie_one_3_mean_squared_error      0.013733\n",
       "three_session_C_natural_movie_one_4_mean_squared_error      0.026014\n",
       "three_session_C_natural_movie_one_5_mean_squared_error      0.011221\n",
       "three_session_C_natural_movie_one_6_mean_squared_error      0.021524\n",
       "three_session_C_natural_movie_one_7_mean_squared_error      0.011033\n",
       "three_session_C_natural_movie_one_8_mean_squared_error      0.012245\n",
       "three_session_C_natural_movie_one_9_mean_squared_error      0.015838\n",
       "three_session_C_natural_movie_two_0_mean_squared_error      0.008990\n",
       "three_session_C_natural_movie_two_1_mean_squared_error      0.010124\n",
       "three_session_C_natural_movie_two_2_mean_squared_error      0.015214\n",
       "three_session_C_natural_movie_two_3_mean_squared_error      0.017978\n",
       "three_session_C_natural_movie_two_4_mean_squared_error      0.012056\n",
       "three_session_C_natural_movie_two_5_mean_squared_error      0.018212\n",
       "three_session_C_natural_movie_two_6_mean_squared_error      0.015673\n",
       "three_session_C_natural_movie_two_7_mean_squared_error      0.014025\n",
       "three_session_C_natural_movie_two_8_mean_squared_error      0.013875\n",
       "three_session_C_natural_movie_two_9_mean_squared_error      0.015778\n",
       "Name: 2, dtype: float64"
      ]
     },
     "execution_count": 37,
     "metadata": {},
     "output_type": "execute_result"
    }
   ],
   "source": [
    "dat.iloc[1,:]"
   ]
  },
  {
   "cell_type": "code",
   "execution_count": 38,
   "id": "a9523f27",
   "metadata": {
    "scrolled": false
   },
   "outputs": [
    {
     "name": "stdout",
     "output_type": "stream",
     "text": [
      "0.0013692215718235428\n",
      "0.001417521087937878\n"
     ]
    }
   ],
   "source": [
    "#Variances of independent variables add--> these variables appear not to be independent\n",
    "print(np.var(dat.iloc[0,:]+dat.iloc[1,:]))\n",
    "print(np.var(dat.iloc[0,:])+np.var(dat.iloc[1,:]))"
   ]
  },
  {
   "cell_type": "code",
   "execution_count": 39,
   "id": "dad6d0fb",
   "metadata": {},
   "outputs": [
    {
     "name": "stdout",
     "output_type": "stream",
     "text": [
      "0.0013846288287297653\n",
      "3.289225920811272e-05\n"
     ]
    }
   ],
   "source": [
    "print(np.var(dat.iloc[0,:]))\n",
    "print(np.var(dat.iloc[1,:]))"
   ]
  },
  {
   "cell_type": "code",
   "execution_count": 43,
   "id": "1c9706c8",
   "metadata": {},
   "outputs": [
    {
     "name": "stdout",
     "output_type": "stream",
     "text": [
      "[[ 1.38462883e-03 -2.41497581e-05]\n",
      " [-2.41497581e-05  3.28922592e-05]]\n"
     ]
    }
   ],
   "source": [
    "print(np.cov(dat.iloc[0,:],dat.iloc[1,:],ddof=0))"
   ]
  },
  {
   "cell_type": "code",
   "execution_count": 41,
   "id": "06aaf4b9",
   "metadata": {},
   "outputs": [
    {
     "name": "stdout",
     "output_type": "stream",
     "text": [
      "[[ 1.         -0.11316164]\n",
      " [-0.11316164  1.        ]]\n"
     ]
    }
   ],
   "source": [
    "print(np.corrcoef(dat.iloc[0,:],dat.iloc[1,:]))"
   ]
  }
 ],
 "metadata": {
  "kernelspec": {
   "display_name": "Python 3 (ipykernel)",
   "language": "python",
   "name": "python3"
  },
  "language_info": {
   "codemirror_mode": {
    "name": "ipython",
    "version": 3
   },
   "file_extension": ".py",
   "mimetype": "text/x-python",
   "name": "python",
   "nbconvert_exporter": "python",
   "pygments_lexer": "ipython3",
   "version": "3.9.13"
  }
 },
 "nbformat": 4,
 "nbformat_minor": 5
}
